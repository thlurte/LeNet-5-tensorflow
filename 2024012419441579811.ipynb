{
 "cells": [
  {
   "cell_type": "code",
   "execution_count": 1,
   "id": "c4b16322-9f47-455c-8f4d-d7ffa4392118",
   "metadata": {},
   "outputs": [
    {
     "name": "stderr",
     "output_type": "stream",
     "text": [
      "2024-01-25 15:55:51.733254: I tensorflow/core/platform/cpu_feature_guard.cc:182] This TensorFlow binary is optimized to use available CPU instructions in performance-critical operations.\n",
      "To enable the following instructions: SSE3 SSE4.1 SSE4.2 AVX AVX2 FMA, in other operations, rebuild TensorFlow with the appropriate compiler flags.\n"
     ]
    }
   ],
   "source": [
    "import tensorflow as tf\n",
    "import tensorflow.keras as tfk\n",
    "import tensorflow.keras.layers as tfl\n",
    "import tensorflow.nn as tfn"
   ]
  },
  {
   "cell_type": "markdown",
   "id": "d1070673-397e-4e82-a52d-cef83e6e20ad",
   "metadata": {},
   "source": [
    "# LeNet-5"
   ]
  },
  {
   "cell_type": "markdown",
   "id": "c463e76c-0034-40f1-9ecb-de7cd36c388f",
   "metadata": {},
   "source": [
    "LeNet-5 comprises of seven layers. The input is a `32x32` pixel image.\n"
   ]
  },
  {
   "cell_type": "markdown",
   "id": "f889b321-eafd-463c-b842-506838afbd49",
   "metadata": {},
   "source": [
    "Layer C1 is a convolutional layer with six feature maps.\n",
    "Each unit in each feature map is connected to a 5x5 neigh-\n",
    "borhood in the input."
   ]
  },
  {
   "cell_type": "code",
   "execution_count": null,
   "id": "d92fcddf-ca5b-475e-8858-6c2892578519",
   "metadata": {},
   "outputs": [],
   "source": [
    "class LeNet5:\n",
    "    def __init__(input_size,epochs):\n",
    "        self.input_size=input_size\n",
    "        self.epochs=epochs\n",
    "\n",
    "    def build():\n",
    "        # Input Layer\n",
    "        input = tfl.Input()"
   ]
  }
 ],
 "metadata": {
  "kernelspec": {
   "display_name": "Python 3 (ipykernel)",
   "language": "python",
   "name": "python3"
  },
  "language_info": {
   "codemirror_mode": {
    "name": "ipython",
    "version": 3
   },
   "file_extension": ".py",
   "mimetype": "text/x-python",
   "name": "python",
   "nbconvert_exporter": "python",
   "pygments_lexer": "ipython3",
   "version": "3.11.6"
  }
 },
 "nbformat": 4,
 "nbformat_minor": 5
}
